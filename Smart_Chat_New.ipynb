{
 "cells": [
  {
   "cell_type": "code",
   "execution_count": 2,
   "id": "fdf948de-49d8-45a0-99e9-422cd5e99866",
   "metadata": {},
   "outputs": [
    {
     "name": "stdout",
     "output_type": "stream",
     "text": [
      "Requirement already satisfied: nltk in c:\\users\\user\\anaconda3\\lib\\site-packages (3.8.1)\n",
      "Requirement already satisfied: click in c:\\users\\user\\anaconda3\\lib\\site-packages (from nltk) (8.1.7)\n",
      "Requirement already satisfied: joblib in c:\\users\\user\\anaconda3\\lib\\site-packages (from nltk) (1.4.2)\n",
      "Requirement already satisfied: regex>=2021.8.3 in c:\\users\\user\\anaconda3\\lib\\site-packages (from nltk) (2023.10.3)\n",
      "Requirement already satisfied: tqdm in c:\\users\\user\\anaconda3\\lib\\site-packages (from nltk) (4.66.4)\n",
      "Requirement already satisfied: colorama in c:\\users\\user\\anaconda3\\lib\\site-packages (from click->nltk) (0.4.6)\n"
     ]
    }
   ],
   "source": [
    "# Install required packages \n",
    "!pip install nltk"
   ]
  },
  {
   "cell_type": "code",
   "execution_count": 3,
   "id": "6128a8a1-452a-4438-bb8f-7e646e8da130",
   "metadata": {},
   "outputs": [
    {
     "name": "stdout",
     "output_type": "stream",
     "text": [
      "Requirement already satisfied: newspaper3k in c:\\users\\user\\anaconda3\\lib\\site-packages (0.2.8)\n",
      "Requirement already satisfied: beautifulsoup4>=4.4.1 in c:\\users\\user\\anaconda3\\lib\\site-packages (from newspaper3k) (4.12.3)\n",
      "Requirement already satisfied: Pillow>=3.3.0 in c:\\users\\user\\anaconda3\\lib\\site-packages (from newspaper3k) (10.3.0)\n",
      "Requirement already satisfied: PyYAML>=3.11 in c:\\users\\user\\anaconda3\\lib\\site-packages (from newspaper3k) (6.0.1)\n",
      "Requirement already satisfied: cssselect>=0.9.2 in c:\\users\\user\\anaconda3\\lib\\site-packages (from newspaper3k) (1.2.0)\n",
      "Requirement already satisfied: lxml>=3.6.0 in c:\\users\\user\\anaconda3\\lib\\site-packages (from newspaper3k) (5.2.1)\n",
      "Requirement already satisfied: nltk>=3.2.1 in c:\\users\\user\\anaconda3\\lib\\site-packages (from newspaper3k) (3.8.1)\n",
      "Requirement already satisfied: requests>=2.10.0 in c:\\users\\user\\anaconda3\\lib\\site-packages (from newspaper3k) (2.32.2)\n",
      "Requirement already satisfied: feedparser>=5.2.1 in c:\\users\\user\\anaconda3\\lib\\site-packages (from newspaper3k) (6.0.11)\n",
      "Requirement already satisfied: tldextract>=2.0.1 in c:\\users\\user\\anaconda3\\lib\\site-packages (from newspaper3k) (3.2.0)\n",
      "Requirement already satisfied: feedfinder2>=0.0.4 in c:\\users\\user\\anaconda3\\lib\\site-packages (from newspaper3k) (0.0.4)\n",
      "Requirement already satisfied: jieba3k>=0.35.1 in c:\\users\\user\\anaconda3\\lib\\site-packages (from newspaper3k) (0.35.1)\n",
      "Requirement already satisfied: python-dateutil>=2.5.3 in c:\\users\\user\\anaconda3\\lib\\site-packages (from newspaper3k) (2.9.0.post0)\n",
      "Requirement already satisfied: tinysegmenter==0.3 in c:\\users\\user\\anaconda3\\lib\\site-packages (from newspaper3k) (0.3)\n",
      "Requirement already satisfied: soupsieve>1.2 in c:\\users\\user\\anaconda3\\lib\\site-packages (from beautifulsoup4>=4.4.1->newspaper3k) (2.5)\n",
      "Requirement already satisfied: six in c:\\users\\user\\anaconda3\\lib\\site-packages (from feedfinder2>=0.0.4->newspaper3k) (1.16.0)\n",
      "Requirement already satisfied: sgmllib3k in c:\\users\\user\\anaconda3\\lib\\site-packages (from feedparser>=5.2.1->newspaper3k) (1.0.0)\n",
      "Requirement already satisfied: click in c:\\users\\user\\anaconda3\\lib\\site-packages (from nltk>=3.2.1->newspaper3k) (8.1.7)\n",
      "Requirement already satisfied: joblib in c:\\users\\user\\anaconda3\\lib\\site-packages (from nltk>=3.2.1->newspaper3k) (1.4.2)\n",
      "Requirement already satisfied: regex>=2021.8.3 in c:\\users\\user\\anaconda3\\lib\\site-packages (from nltk>=3.2.1->newspaper3k) (2023.10.3)\n",
      "Requirement already satisfied: tqdm in c:\\users\\user\\anaconda3\\lib\\site-packages (from nltk>=3.2.1->newspaper3k) (4.66.4)\n",
      "Requirement already satisfied: charset-normalizer<4,>=2 in c:\\users\\user\\anaconda3\\lib\\site-packages (from requests>=2.10.0->newspaper3k) (2.0.4)\n",
      "Requirement already satisfied: idna<4,>=2.5 in c:\\users\\user\\anaconda3\\lib\\site-packages (from requests>=2.10.0->newspaper3k) (3.7)\n",
      "Requirement already satisfied: urllib3<3,>=1.21.1 in c:\\users\\user\\anaconda3\\lib\\site-packages (from requests>=2.10.0->newspaper3k) (2.2.2)\n",
      "Requirement already satisfied: certifi>=2017.4.17 in c:\\users\\user\\anaconda3\\lib\\site-packages (from requests>=2.10.0->newspaper3k) (2025.1.31)\n",
      "Requirement already satisfied: requests-file>=1.4 in c:\\users\\user\\anaconda3\\lib\\site-packages (from tldextract>=2.0.1->newspaper3k) (1.5.1)\n",
      "Requirement already satisfied: filelock>=3.0.8 in c:\\users\\user\\anaconda3\\lib\\site-packages (from tldextract>=2.0.1->newspaper3k) (3.13.1)\n",
      "Requirement already satisfied: colorama in c:\\users\\user\\anaconda3\\lib\\site-packages (from click->nltk>=3.2.1->newspaper3k) (0.4.6)\n"
     ]
    }
   ],
   "source": [
    "!pip install newspaper3k"
   ]
  },
  {
   "cell_type": "code",
   "execution_count": 4,
   "id": "668f6c83-d132-4ede-8be5-cbd69df7a27a",
   "metadata": {},
   "outputs": [
    {
     "name": "stdout",
     "output_type": "stream",
     "text": [
      "Requirement already satisfied: lxml[html_clean] in c:\\users\\user\\anaconda3\\lib\\site-packages (5.2.1)\n",
      "Requirement already satisfied: lxml-html-clean in c:\\users\\user\\anaconda3\\lib\\site-packages (from lxml[html_clean]) (0.4.1)\n"
     ]
    }
   ],
   "source": [
    "!pip install lxml[html_clean]"
   ]
  },
  {
   "cell_type": "code",
   "execution_count": 6,
   "id": "a7a60de3-c3d8-40d5-ad77-0bd70ad4e69c",
   "metadata": {},
   "outputs": [
    {
     "name": "stdout",
     "output_type": "stream",
     "text": [
      "Requirement already satisfied: threadpoolctl in c:\\users\\user\\anaconda3\\lib\\site-packages (2.2.0)\n",
      "Collecting threadpoolctl\n",
      "  Using cached threadpoolctl-3.6.0-py3-none-any.whl.metadata (13 kB)\n",
      "Using cached threadpoolctl-3.6.0-py3-none-any.whl (18 kB)\n",
      "Installing collected packages: threadpoolctl\n",
      "  Attempting uninstall: threadpoolctl\n",
      "    Found existing installation: threadpoolctl 2.2.0\n",
      "    Uninstalling threadpoolctl-2.2.0:\n",
      "      Successfully uninstalled threadpoolctl-2.2.0\n",
      "Successfully installed threadpoolctl-3.6.0\n",
      "Note: you may need to restart the kernel to use updated packages.\n"
     ]
    }
   ],
   "source": [
    "pip install --upgrade threadpoolctl"
   ]
  },
  {
   "cell_type": "code",
   "execution_count": 8,
   "id": "7de23281-06d2-413c-9122-b3348160aa9e",
   "metadata": {},
   "outputs": [
    {
     "name": "stdout",
     "output_type": "stream",
     "text": [
      "Requirement already satisfied: scikit-learn in c:\\users\\user\\anaconda3\\lib\\site-packages (1.6.1)\n",
      "Requirement already satisfied: numpy>=1.19.5 in c:\\users\\user\\anaconda3\\lib\\site-packages (from scikit-learn) (1.26.4)\n",
      "Requirement already satisfied: scipy>=1.6.0 in c:\\users\\user\\anaconda3\\lib\\site-packages (from scikit-learn) (1.15.3)\n",
      "Requirement already satisfied: joblib>=1.2.0 in c:\\users\\user\\anaconda3\\lib\\site-packages (from scikit-learn) (1.4.2)\n",
      "Requirement already satisfied: threadpoolctl>=3.1.0 in c:\\users\\user\\anaconda3\\lib\\site-packages (from scikit-learn) (3.6.0)\n",
      "Note: you may need to restart the kernel to use updated packages.\n"
     ]
    }
   ],
   "source": [
    "pip install --upgrade scikit-learn"
   ]
  },
  {
   "cell_type": "code",
   "execution_count": 1,
   "id": "29417785-3f75-4b24-a4b6-0fdb27a35a49",
   "metadata": {},
   "outputs": [],
   "source": [
    "# Import necessary libraries\n",
    "from newspaper import Article\n",
    "import random\n",
    "import string\n",
    "import nltk\n",
    "from sklearn.feature_extraction.text import CountVectorizer\n",
    "from sklearn.metrics.pairwise import cosine_similarity\n",
    "import numpy as np\n",
    "import warnings\n",
    "warnings.filterwarnings('ignore')"
   ]
  },
  {
   "cell_type": "code",
   "execution_count": 5,
   "id": "36119f69-dbb2-4247-a8a4-36a53dafe121",
   "metadata": {},
   "outputs": [
    {
     "name": "stdout",
     "output_type": "stream",
     "text": [
      "Loading article content... Please wait.\n",
      "Article loaded successfully!\n",
      "Article length: 6382 characters\n",
      "--------------------------------------------------\n"
     ]
    }
   ],
   "source": [
    "# Download the punkt package\n",
    "nltk.download('punkt', quiet=True)\n",
    "print(\"Loading article content... Please wait.\")\n",
    "\n",
    "try:\n",
    "    # Get the article\n",
    "    article = Article('https://www.mayoclinic.org/diseases-conditions/chronic-kidney-disease/symptoms-causes/syc-20354521')\n",
    "    article.download()\n",
    "    article.parse()\n",
    "    article.nlp()\n",
    "    corpus = article.text\n",
    "    print(\"Article loaded successfully!\")\n",
    "    print(f\"Article length: {len(corpus)} characters\")\n",
    "    print(\"-\" * 50)\n",
    "    \n",
    "except Exception as e:\n",
    "    print(f\"Error loading article: {e}\")"
   ]
  },
  {
   "cell_type": "code",
   "execution_count": 6,
   "id": "f87adf42-afb6-402c-9084-af51e2d31b7b",
   "metadata": {},
   "outputs": [
    {
     "name": "stdout",
     "output_type": "stream",
     "text": [
      "Processed 71 sentences from the article.\n"
     ]
    }
   ],
   "source": [
    "# Tokenization\n",
    "text = corpus\n",
    "sentence_list = nltk.sent_tokenize(text)  # A list of sentences\n",
    "\n",
    "print(f\"Processed {len(sentence_list)} sentences from the article.\")\n"
   ]
  },
  {
   "cell_type": "code",
   "execution_count": 7,
   "id": "edfd90c6-bb05-4141-99bb-43e5a5491e29",
   "metadata": {},
   "outputs": [],
   "source": [
    "# A function to return a random greeting response to a user's greeting \n",
    "def greeting_response(text):\n",
    "    text = text.lower()\n",
    "    # Bot's greeting response\n",
    "    bot_greetings = ['howdy', 'hi', 'hey', 'hello', 'hola', 'greetings!', 'nice to meet you!']\n",
    "    # User's greeting patterns\n",
    "    user_greetings = ['hi', 'hey', 'hello', 'hola', 'greetings', 'wassup', 'good morning', 'good afternoon', 'good evening']\n",
    "    \n",
    "    for word in text.split():\n",
    "        if word in user_greetings:\n",
    "            return random.choice(bot_greetings)\n",
    "    return None"
   ]
  },
  {
   "cell_type": "code",
   "execution_count": 8,
   "id": "f2da5607-c362-478e-9ca2-8598f1021250",
   "metadata": {},
   "outputs": [],
   "source": [
    "# Fixed sorting function\n",
    "def index_sort(list_var):\n",
    "    length = len(list_var)\n",
    "    list_index = list(range(0, length))\n",
    "    \n",
    "    x = list_var\n",
    "    for i in range(length):\n",
    "        for j in range(length):\n",
    "            if x[list_index[i]] > x[list_index[j]]:\n",
    "                # Fixed: swap both indices properly\n",
    "                temp = list_index[i]\n",
    "                list_index[i] = list_index[j]\n",
    "                list_index[j] = temp  # FIXED: was missing [j]\n",
    "    return list_index"
   ]
  },
  {
   "cell_type": "code",
   "execution_count": 9,
   "id": "374e0d6b-973c-42c8-bbc6-a45dfea7ccc5",
   "metadata": {},
   "outputs": [],
   "source": [
    "# Enhanced bot response function\n",
    "def bot_response(user_input):\n",
    "    user_input = user_input.lower()\n",
    "    sentence_list.append(user_input)\n",
    "    bot_response = ''\n",
    "    \n",
    "    try:\n",
    "        cm = CountVectorizer().fit_transform(sentence_list)\n",
    "        similarity_scores = cosine_similarity(cm[-1], cm)\n",
    "        similarity_scores_list = similarity_scores.flatten()\n",
    "        index = index_sort(similarity_scores_list)\n",
    "        index = index[1:]  # Remove the user input itself\n",
    "        response_flag = 0\n",
    "        \n",
    "        j = 0\n",
    "        for i in range(len(index)):\n",
    "            if similarity_scores_list[index[i]] > 0.0:\n",
    "                bot_response = bot_response + ' ' + sentence_list[index[i]]\n",
    "                response_flag = 1\n",
    "                j = j + 1\n",
    "            if j >= 2:  # FIXED: was j<2, now j>=2 to break after getting 2 responses\n",
    "                break\n",
    "                \n",
    "        if response_flag == 0:\n",
    "            bot_response = bot_response + ' ' + \"I apologize, I don't understand. Could you please rephrase your question about chronic kidney disease?\"\n",
    "            \n",
    "    except Exception as e:\n",
    "        bot_response = \"I'm having trouble processing your question. Please try asking about chronic kidney disease symptoms, causes, or treatment.\"\n",
    "    \n",
    "    sentence_list.remove(user_input)\n",
    "    return bot_response.strip()"
   ]
  },
  {
   "cell_type": "code",
   "execution_count": 10,
   "id": "a58e88f6-5f0a-4745-a4a2-e7cabebc227a",
   "metadata": {},
   "outputs": [],
   "source": [
    "# Enhanced chat interface\n",
    "def start_chat():\n",
    "    print('=' * 60)\n",
    "    print('🤖 Doc Bot: Hello! I am Doctor Bot (Doc Bot for short).')\n",
    "    print('   I can answer your questions about Chronic Kidney Disease.')\n",
    "    print('   Ask me about symptoms, causes, treatments, or prevention.')\n",
    "    print('   Type \"bye\", \"exit\", or \"quit\" to end our conversation.')\n",
    "    print('=' * 60)\n",
    "    \n",
    "    exit_list = ['exit', 'see you later', 'bye', 'quit', 'break', 'goodbye']\n",
    "    \n",
    "    while True:\n",
    "        try:\n",
    "            print(\"\\n💬 You: \", end=\"\")\n",
    "            user_input = input().strip()\n",
    "            \n",
    "            if not user_input:\n",
    "                print(\"🤖 Doc Bot: Please say something! I'm here to help with kidney disease questions.\")\n",
    "                continue\n",
    "                \n",
    "            if user_input.lower() in exit_list:\n",
    "                print('🤖 Doc Bot: Thank you for chatting! Take care of your health. Goodbye! 👋')\n",
    "                break\n",
    "            else:\n",
    "                greeting_resp = greeting_response(user_input)\n",
    "                if greeting_resp is not None:\n",
    "                    print(f'🤖 Doc Bot: {greeting_resp} How can I help you with chronic kidney disease today?')\n",
    "                else:\n",
    "                    response = bot_response(user_input)\n",
    "                    print(f'🤖 Doc Bot: {response}')\n",
    "                    \n",
    "        except KeyboardInterrupt:\n",
    "            print('\\n🤖 Doc Bot: Chat interrupted. Goodbye!')\n",
    "            break\n",
    "        except Exception as e:\n",
    "            print(f'🤖 Doc Bot: Sorry, I encountered an error. Please try again.')"
   ]
  },
  {
   "cell_type": "code",
   "execution_count": 11,
   "id": "48aad6f1-d824-4017-bcfc-d0e19c5f75ba",
   "metadata": {},
   "outputs": [
    {
     "name": "stdout",
     "output_type": "stream",
     "text": [
      "============================================================\n",
      "🤖 Doc Bot: Hello! I am Doctor Bot (Doc Bot for short).\n",
      "   I can answer your questions about Chronic Kidney Disease.\n",
      "   Ask me about symptoms, causes, treatments, or prevention.\n",
      "   Type \"bye\", \"exit\", or \"quit\" to end our conversation.\n",
      "============================================================\n",
      "\n",
      "💬 You: "
     ]
    },
    {
     "name": "stdin",
     "output_type": "stream",
     "text": [
      " hii\n"
     ]
    },
    {
     "name": "stdout",
     "output_type": "stream",
     "text": [
      "🤖 Doc Bot: I apologize, I don't understand. Could you please rephrase your question about chronic kidney disease?\n",
      "\n",
      "💬 You: "
     ]
    },
    {
     "name": "stdin",
     "output_type": "stream",
     "text": [
      " What is chronic kidney disease?\n"
     ]
    },
    {
     "name": "stdout",
     "output_type": "stream",
     "text": [
      "🤖 Doc Bot: Chronic kidney disease is a disease characterized by progressive damage and loss of function in the kidneys. What is it?\n",
      "\n",
      "💬 You: "
     ]
    },
    {
     "name": "stdin",
     "output_type": "stream",
     "text": [
      " How do I know if I have kidney problems?\n"
     ]
    },
    {
     "name": "stdout",
     "output_type": "stream",
     "text": [
      "🤖 Doc Bot: If you have kidney disease, there are lifestyle choices. Learning you have chronic kidney disease and learning how to live with it can be a challenge.\n",
      "\n",
      "💬 You: "
     ]
    },
    {
     "name": "stdin",
     "output_type": "stream",
     "text": [
      " Can kidney disease be prevented?\n"
     ]
    },
    {
     "name": "stdout",
     "output_type": "stream",
     "text": [
      "🤖 Doc Bot: Smoking can also be a contributing factor to chronic kidney disease. Learning you have chronic kidney disease and learning how to live with it can be a challenge.\n",
      "\n",
      "💬 You: "
     ]
    },
    {
     "name": "stdin",
     "output_type": "stream",
     "text": [
      " bye\n"
     ]
    },
    {
     "name": "stdout",
     "output_type": "stream",
     "text": [
      "🤖 Doc Bot: Thank you for chatting! Take care of your health. Goodbye! 👋\n"
     ]
    }
   ],
   "source": [
    "# Start the chatbot\n",
    "if __name__ == \"__main__\":\n",
    "    start_chat()"
   ]
  },
  {
   "cell_type": "code",
   "execution_count": null,
   "id": "ecf532f3-12c1-41c4-a56b-dbc9ff100db6",
   "metadata": {},
   "outputs": [],
   "source": []
  }
 ],
 "metadata": {
  "kernelspec": {
   "display_name": "Python 3 (ipykernel)",
   "language": "python",
   "name": "python3"
  },
  "language_info": {
   "codemirror_mode": {
    "name": "ipython",
    "version": 3
   },
   "file_extension": ".py",
   "mimetype": "text/x-python",
   "name": "python",
   "nbconvert_exporter": "python",
   "pygments_lexer": "ipython3",
   "version": "3.12.4"
  }
 },
 "nbformat": 4,
 "nbformat_minor": 5
}
